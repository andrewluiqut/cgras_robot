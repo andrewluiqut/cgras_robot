{
 "cells": [
  {
   "cell_type": "code",
   "execution_count": 6,
   "metadata": {},
   "outputs": [],
   "source": [
    "# import libraries\n",
    "import sys, os, signal, time, threading, json, webbrowser\n",
    "\n",
    "import jupyros\n",
    "import rospy, message_filters, actionlib\n",
    "from std_msgs.msg import String, Header\n",
    "from actionlib_msgs.msg import GoalStatus\n",
    "\n",
    "! source /home/qcr/cgras_moveit_ws/devel/setup.bash\n",
    "sys.path.append('/home/qcr/cgras_moveit_ws/devel/lib/python3/dist-packages')\n",
    "\n",
    "# project modules\n",
    "from cgras_robot.msg import RobotCommandAction, RobotCommandGoal\n",
    "\n",
    "rospy.init_node('action_node')"
   ]
  },
  {
   "cell_type": "code",
   "execution_count": null,
   "metadata": {},
   "outputs": [],
   "source": [
    "jupyros.action_client('/cgras/robot/do', RobotCommandAction, RobotCommandGoal, callbacks={})"
   ]
  },
  {
   "cell_type": "code",
   "execution_count": 62,
   "metadata": {},
   "outputs": [
    {
     "name": "stdout",
     "output_type": "stream",
     "text": [
      "error: the error is INVALID POSE\n"
     ]
    }
   ],
   "source": [
    "def cb_calibrate_done(status, result):\n",
    "    if status == GoalStatus.SUCCEEDED:\n",
    "        print(f'success: the location apriltag found {result.data}')\n",
    "    elif status == GoalStatus.ABORTED:\n",
    "        print(f'error: the error is {result.data}')   \n",
    "\n",
    "def cb_move_done(status, result):   \n",
    "    if status == GoalStatus.SUCCEEDED:\n",
    "        print(f'success: moved to the target')\n",
    "    elif status == GoalStatus.ABORTED:\n",
    "        print(f'error: the error is {result.data}')   \n",
    "\n",
    "def cb_reset_done(status, result): \n",
    "    if status == GoalStatus.SUCCEEDED:\n",
    "        print(f'success: moved to the desired pose')\n",
    "    elif status == GoalStatus.ABORTED:\n",
    "        print(f'error: the error is {result.data}')             \n",
    "\n",
    "# -- callback from the GUI console\n",
    "def call_robot_to_calibrate(*args):\n",
    "    action_client = actionlib.SimpleActionClient('/cgras/robot/do', RobotCommandAction)\n",
    "    action_client.wait_for_server()\n",
    "    goal = RobotCommandGoal(target=[RobotCommandGoal.ACTION_CALIBRATE])\n",
    "    action_client.send_goal(goal, done_cb=cb_calibrate_done)\n",
    "            \n",
    "def call_robot_to_move_cell(*args):\n",
    "    action_client = actionlib.SimpleActionClient('/cgras/robot/do', RobotCommandAction)\n",
    "    action_client.wait_for_server()\n",
    "    if len(args) == 0:\n",
    "        target = [RobotCommandGoal.ACTION_MOVE_CELL, 0, 0, 0, 0]\n",
    "    else:\n",
    "        target = [RobotCommandGoal.ACTION_MOVE_CELL] + args\n",
    "    goal = RobotCommandGoal(target=target)\n",
    "    action_client.send_goal(goal, done_cb=cb_move_done)\n",
    "\n",
    "def call_robot_to_move_posename(*args):\n",
    "    action_client = actionlib.SimpleActionClient('/cgras/robot/do', RobotCommandAction)\n",
    "    action_client.wait_for_server()\n",
    "    if len(args) == 0:\n",
    "        target = [RobotCommandGoal.ACTION_MOVE_NAME, RobotCommandGoal.POSENAME_STOW]\n",
    "    else:\n",
    "        target = [RobotCommandGoal.ACTION_MOVE_NAME, args[0]]\n",
    "    goal = RobotCommandGoal(target=target)\n",
    "    action_client.send_goal(goal, done_cb=cb_reset_done)\n",
    "\n",
    "# call_robot_to_calibrate()\n",
    "# call_robot_to_move_posename(RobotCommandGoal.POSENAME_HOME)\n",
    "call_robot_to_move_posename(RobotCommandGoal.POSENAME_STOW)\n",
    "# call_robot_to_move_posename(3)\n",
    "# call_robot('move_cell', [0, 0, 0, 0,])"
   ]
  }
 ],
 "metadata": {
  "kernelspec": {
   "display_name": "Python 3",
   "language": "python",
   "name": "python3"
  },
  "language_info": {
   "codemirror_mode": {
    "name": "ipython",
    "version": 3
   },
   "file_extension": ".py",
   "mimetype": "text/x-python",
   "name": "python",
   "nbconvert_exporter": "python",
   "pygments_lexer": "ipython3",
   "version": "3.8.10"
  }
 },
 "nbformat": 4,
 "nbformat_minor": 2
}
