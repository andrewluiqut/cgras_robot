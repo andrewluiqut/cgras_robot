{
 "cells": [
  {
   "cell_type": "code",
   "execution_count": 1,
   "metadata": {},
   "outputs": [],
   "source": [
    "# import libraries\n",
    "import sys, os, signal, time, threading, json, webbrowser\n",
    "\n",
    "import jupyros\n",
    "import rospy, message_filters, actionlib\n",
    "from std_msgs.msg import String, Header\n",
    "from actionlib_msgs.msg import GoalStatus\n",
    "\n",
    "! source /home/qcr/cgras_moveit_ws/devel/setup.bash\n",
    "sys.path.append('/home/qcr/cgras_moveit_ws/devel/lib/python3/dist-packages')\n",
    "\n",
    "# project modules\n",
    "from cgras_robot.msg import RobotAction, RobotGoal\n",
    "\n",
    "rospy.init_node('action_node')"
   ]
  },
  {
   "cell_type": "code",
   "execution_count": null,
   "metadata": {},
   "outputs": [],
   "source": [
    "jupyros.action_client('/cgras/robot/do', RobotAction, RobotGoal, callbacks={})"
   ]
  },
  {
   "cell_type": "code",
   "execution_count": 11,
   "metadata": {},
   "outputs": [
    {
     "name": "stdout",
     "output_type": "stream",
     "text": [
      "success: moved to the target\n"
     ]
    }
   ],
   "source": [
    "def cb_calibrate_done(status, result):\n",
    "    if status == GoalStatus.SUCCEEDED:\n",
    "        print(f'success: the location apriltag found {result.data}')\n",
    "    elif status == GoalStatus.ABORTED:\n",
    "        print(f'error: the error is {result.error}')   \n",
    "\n",
    "def cb_move_done(status, result):   \n",
    "    if status == GoalStatus.SUCCEEDED:\n",
    "        print(f'success: moved to the target')\n",
    "    elif status == GoalStatus.ABORTED:\n",
    "        print(f'error: the error is {result.error}')   \n",
    "\n",
    "def cb_reset_done(status, result): \n",
    "    if status == GoalStatus.SUCCEEDED:\n",
    "        print(f'success: moved to the desired pose')\n",
    "    elif status == GoalStatus.ABORTED:\n",
    "        print(f'error: the error is {result.error}')             \n",
    "\n",
    "# -- callback from the GUI console\n",
    "def call_robot(event, *args):\n",
    "    if event == 'calibrate':\n",
    "        action_client = actionlib.SimpleActionClient('/cgras/robot/do', RobotAction)\n",
    "        action_client.wait_for_server()\n",
    "        goal = RobotGoal(target=RobotGoal.CALIBRATE, location=[])\n",
    "        action_client.send_goal(goal, done_cb=cb_calibrate_done)\n",
    "            \n",
    "    elif event == 'move':\n",
    "        action_client = actionlib.SimpleActionClient('/cgras/robot/do', RobotAction)\n",
    "        action_client.wait_for_server()\n",
    "        if len(args) == 0:\n",
    "            args[0] = [0, 0, 0, 0]\n",
    "        goal = RobotGoal(target=RobotGoal.MOVE_TO_CELL, location=args[0])\n",
    "        action_client.send_goal(goal, done_cb=cb_move_done)\n",
    "\n",
    "    elif event == 'reset':\n",
    "        action_client = actionlib.SimpleActionClient('/cgras/robot/do', RobotAction)\n",
    "        action_client.wait_for_server()\n",
    "        goal = RobotGoal(target=RobotGoal.MOVE_TO_HOME, location=[])\n",
    "        action_client.send_goal(goal, done_cb=cb_reset_done)\n",
    "\n",
    "# call_robot('reset')\n",
    "call_robot('move', [0, 0, 0, 0,])"
   ]
  }
 ],
 "metadata": {
  "kernelspec": {
   "display_name": "Python 3",
   "language": "python",
   "name": "python3"
  },
  "language_info": {
   "codemirror_mode": {
    "name": "ipython",
    "version": 3
   },
   "file_extension": ".py",
   "mimetype": "text/x-python",
   "name": "python",
   "nbconvert_exporter": "python",
   "pygments_lexer": "ipython3",
   "version": "3.8.10"
  }
 },
 "nbformat": 4,
 "nbformat_minor": 2
}
