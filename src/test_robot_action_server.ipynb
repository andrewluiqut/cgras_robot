{
 "cells": [
  {
   "cell_type": "code",
   "execution_count": 1,
   "metadata": {},
   "outputs": [],
   "source": [
    "# import libraries\n",
    "import sys, os, signal, time, threading, json, webbrowser\n",
    "\n",
    "import jupyros\n",
    "import rospy, message_filters, actionlib\n",
    "from std_msgs.msg import String, Header\n",
    "from actionlib_msgs.msg import GoalStatus\n",
    "\n",
    "! source /home/qcr/cgras_moveit_ws/devel/setup.bash\n",
    "sys.path.append('/home/qcr/cgras_moveit_ws/devel/lib/python3/dist-packages')\n",
    "\n",
    "# project modules\n",
    "import cgras_robot.msg\n",
    "from cgras_robot.msg import CalibrateAction, MoveAction, ResetAction, CalibrateGoal, MoveGoal, ResetGoal\n",
    "\n",
    "rospy.init_node('action_node')"
   ]
  },
  {
   "cell_type": "code",
   "execution_count": 2,
   "metadata": {},
   "outputs": [
    {
     "name": "stdout",
     "output_type": "stream",
     "text": [
      "[INFO] [1703991446.045577]: [/CGRAS/ROBOT/MOVE] Waiting for action server.\n",
      "[INFO] [1703991446.059186]: [/CGRAS/ROBOT/MOVE] Connection to server successful.\n"
     ]
    },
    {
     "data": {
      "application/vnd.jupyter.widget-view+json": {
       "model_id": "1c568b4101e84f7d9d2fc9cc941d2fe7",
       "version_major": 2,
       "version_minor": 0
      },
      "text/plain": [
       "VBox(children=(HBox(children=(Label(value='tile_x', layout=Layout(width='100px')), IntText(value=0))), HBox(ch…"
      ]
     },
     "metadata": {},
     "output_type": "display_data"
    },
    {
     "name": "stdout",
     "output_type": "stream",
     "text": [
      "[INFO] [1703991453.252157]: [/CGRAS/ROBOT/MOVE] Result is error: ''\n"
     ]
    },
    {
     "name": "stderr",
     "output_type": "stream",
     "text": [
      "[ERROR] [1704075608.238758]: Got a transition callback on a goal handle that we're not tracking\n"
     ]
    },
    {
     "name": "stdout",
     "output_type": "stream",
     "text": [
      "[INFO] [1704075608.310078]: [/CGRAS/ROBOT/MOVE] Result is error: ''\n"
     ]
    }
   ],
   "source": [
    "jupyros.action_client('/cgras/robot/move', MoveAction, MoveGoal, callbacks={})"
   ]
  },
  {
   "cell_type": "code",
   "execution_count": 3,
   "metadata": {},
   "outputs": [
    {
     "name": "stdout",
     "output_type": "stream",
     "text": [
      "[INFO] [1703991449.542732]: [/CGRAS/ROBOT/RESET] Waiting for action server.\n",
      "[INFO] [1703991449.564212]: [/CGRAS/ROBOT/RESET] Connection to server successful.\n"
     ]
    },
    {
     "data": {
      "application/vnd.jupyter.widget-view+json": {
       "model_id": "4184d1965f724e24ae4b8abd38f269b3",
       "version_major": 2,
       "version_minor": 0
      },
      "text/plain": [
       "VBox(children=(HBox(children=(Label(value='pose', layout=Layout(width='100px')), Text(value=''))), HBox(childr…"
      ]
     },
     "metadata": {},
     "output_type": "display_data"
    },
    {
     "name": "stdout",
     "output_type": "stream",
     "text": [
      "[INFO] [1703991456.464439]: [/CGRAS/ROBOT/RESET] Result is error: ''\n"
     ]
    }
   ],
   "source": [
    "jupyros.action_client('/cgras/robot/reset', ResetAction, ResetGoal, callbacks={})"
   ]
  },
  {
   "cell_type": "code",
   "execution_count": null,
   "metadata": {},
   "outputs": [],
   "source": [
    "def cb_calibrate_done(status, result):\n",
    "    if status == GoalStatus.SUCCEEDED:\n",
    "        print(True, f'success: the location apriltag found {result.location}')\n",
    "    elif status == GoalStatus.ABORTED:\n",
    "        print.ACTION_RESULT.set_result(False, f'error: the error is {result.error}')   \n",
    "\n",
    "def cb_move_done(status, result):\n",
    "    if status == GoalStatus.SUCCEEDED:\n",
    "        print.ACTION_RESULT.set_result(True, f'success: moved to the grid coordinate')\n",
    "    elif status == GoalStatus.ABORTED:\n",
    "        print.ACTION_RESULT.set_result(False, f'error: the error is {result.error}')   \n",
    "\n",
    "def cb_reset_done(status, result):\n",
    "    if status == GoalStatus.SUCCEEDED:\n",
    "        print.ACTION_RESULT.set_result(True, f'success: reset to the desired pose')\n",
    "    elif status == GoalStatus.ABORTED:\n",
    "        print.ACTION_RESULT.set_result(False, f'error: the error is {result.error}')              \n",
    "\n",
    "# -- callback from the GUI console\n",
    "def _client_callback(event, *args):\n",
    "    if event == 'calibrate':\n",
    "        action_client = actionlib.SimpleActionClient('/cgras/robot/calibrate', \n",
    "                                                            CalibrateAction)\n",
    "        action_client.wait_for_server()\n",
    "        goal = CalibrateGoal()\n",
    "        action_client.send_goal(goal, done_cb=cb_calibrate_done)\n",
    "            \n",
    "    elif event == 'move':\n",
    "        action_client = actionlib.SimpleActionClient('/cgras/robot/move', \n",
    "                                                            MoveAction)\n",
    "        tile_x = int(args[0])\n",
    "        tile_y = int(args[1])\n",
    "        grid_x = int(args[2])\n",
    "        grid_y = int(args[3])\n",
    "        action_client.wait_for_server()\n",
    "        goal = MoveGoal(tile_x=tile_x, tile_y=tile_y, grid_x=grid_x, grid_y=grid_y)\n",
    "        action_client.send_goal(goal, done_cb=cb_move_done)\n",
    "\n",
    "    elif event == 'reset':\n",
    "        action_client = actionlib.SimpleActionClient('/cgras/robot/reset', \n",
    "                                                            ResetAction)\n",
    "        pose = args[0]\n",
    "        action_client.wait_for_server()\n",
    "        goal = ResetGoal(pose=pose)\n",
    "        action_client.send_goal(goal, done_cb=cb_reset_done)      "
   ]
  }
 ],
 "metadata": {
  "kernelspec": {
   "display_name": "Python 3",
   "language": "python",
   "name": "python3"
  },
  "language_info": {
   "codemirror_mode": {
    "name": "ipython",
    "version": 3
   },
   "file_extension": ".py",
   "mimetype": "text/x-python",
   "name": "python",
   "nbconvert_exporter": "python",
   "pygments_lexer": "ipython3",
   "version": "3.8.10"
  }
 },
 "nbformat": 4,
 "nbformat_minor": 2
}
